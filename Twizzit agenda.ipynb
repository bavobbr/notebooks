{
 "cells": [
  {
   "cell_type": "code",
   "execution_count": null,
   "id": "29d6508f",
   "metadata": {},
   "outputs": [],
   "source": [
    "import pandas as pd\n",
    "\n",
    "# read the CSV file\n",
    "df = pd.read_csv('twizzit_agenda.csv', sep=';')\n",
    "\n",
    "# filter rows based on \"Activity subtype\" and create a copy\n",
    "filtered_df = df[df[\"Activity subtype\"].isin(['Oefenwedstrijd', 'Competitiewedstrijd'])].copy()\n",
    "\n",
    "# fill NaN values in the \"Locatie\" column\n",
    "filtered_df[\"Locatie\"] = filtered_df[\"Locatie\"].fillna('')\n",
    "print(f'size is now {filtered_df.shape}')\n",
    "\n",
    "\n",
    "# further filter rows based on \"Locatie\"\n",
    "filtered_df = filtered_df[filtered_df[\"Locatie\"].str.contains('Grembergen', case=False)]\n",
    "print(f'size is now {filtered_df.shape}')\n",
    "\n",
    "# select columns\n",
    "selected_columns_df = filtered_df[[\"Activity subtype\", \"Startdatum\", \"Start tijdstip\", \"Eind tijdstip\", \"Titel\", \"Groep\", \"Locatie\"]]\n",
    "\n",
    "# print the first few rows of the dataframe\n",
    "print(selected_columns_df.head())\n"
   ]
  }
 ],
 "metadata": {
  "kernelspec": {
   "display_name": "Python 3 (ipykernel)",
   "language": "python",
   "name": "python3"
  },
  "language_info": {
   "codemirror_mode": {
    "name": "ipython",
    "version": 3
   },
   "file_extension": ".py",
   "mimetype": "text/x-python",
   "name": "python",
   "nbconvert_exporter": "python",
   "pygments_lexer": "ipython3",
   "version": "3.11.1"
  }
 },
 "nbformat": 4,
 "nbformat_minor": 5
}
